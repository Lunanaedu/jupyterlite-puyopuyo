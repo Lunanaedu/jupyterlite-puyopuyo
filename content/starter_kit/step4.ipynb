{
 "cells": [
  {
   "cell_type": "markdown",
   "metadata": {},
   "source": [
    "# Step4 next board"
   ]
  },
  {
   "cell_type": "markdown",
   "metadata": {},
   "source": [
    "# 4 ブロックを落下させて、ブロックを消して、次の画面を作る。\n",
    "\n",
    "　step3の　check_collisionを使えば、blockがどこまで落下するか判定できます。ブロックをボードに配置すれば、ラインが分かります。そして、ライン判定と得点を計算します。\n"
   ]
  },
  {
   "cell_type": "markdown",
   "metadata": {},
   "source": [
    "## 4.1 auto fix\n",
    "\n",
    "まずは、どこまで２つのぷよが落ちるかを計算します。そして、その場所にセットします。"
   ]
  },
  {
   "cell_type": "code",
   "execution_count": 1,
   "metadata": {},
   "outputs": [],
   "source": [
    "from puyo_utils import *\n",
    "import numpy as np\n",
    "\n",
    "def auto_fix_puyo(board, puyo):\n",
    "    for i in range(CFG.Height):\n",
    "        puyo.y = i\n",
    "        if utils.check_collision(board, puyo):\n",
    "            puyo.y -= 1\n",
    "            break\n",
    "    new_board = utils.set_puyo_to_board(board, puyo)\n",
    "    return new_board    "
   ]
  },
  {
   "cell_type": "markdown",
   "metadata": {},
   "source": [
    "試してみましょう。"
   ]
  },
  {
   "cell_type": "code",
   "execution_count": 2,
   "metadata": {},
   "outputs": [
    {
     "name": "stdout",
     "output_type": "stream",
     "text": [
      "[[0 0 0 0 0 0]\n",
      " [0 0 0 0 0 0]\n",
      " [0 0 0 0 0 0]\n",
      " [0 0 0 0 0 0]\n",
      " [0 0 0 0 0 0]\n",
      " [0 0 0 0 0 0]\n",
      " [0 0 0 0 0 0]\n",
      " [0 4 2 2 0 0]\n",
      " [0 2 3 0 0 0]\n",
      " [4 3 2 0 0 0]\n",
      " [2 2 3 2 0 0]\n",
      " [2 2 4 3 3 0]]\n"
     ]
    }
   ],
   "source": [
    "board = utils.create_sample_board()\n",
    "puyo, done = utils.create_new_puyo(board)\n",
    "puyo.rotation = 0\n",
    "board = auto_fix_puyo(board, puyo)\n",
    "print(board)"
   ]
  },
  {
   "cell_type": "markdown",
   "metadata": {},
   "source": [
    "## 4.2 fall\n",
    "\n",
    "公式javascriptでは、stage関数です。javascript版では、連結ぷよの動きは、player関数で制御して、ぷよ全体の処理はstage関数で行っています。\n",
    "\n",
    "機械学習においては、auto_fix_puyoはほとんど使われないでしょう"
   ]
  },
  {
   "cell_type": "code",
   "execution_count": 3,
   "metadata": {},
   "outputs": [],
   "source": [
    "def fall(board):\n",
    "    for j in range(CFG.Width):\n",
    "        target_row = CFG.Height - 1\n",
    "        for i in range(CFG.Height-1,-1,-1):\n",
    "            if board[i,j] > 0:\n",
    "                if target_row > i:\n",
    "                    board[target_row,j] = board[i, j]\n",
    "                    board[i, j] = 0\n",
    "                target_row -= 1"
   ]
  },
  {
   "cell_type": "markdown",
   "metadata": {},
   "source": [
    "* 列ごとに逐次処理します。\n",
    "* range(CFG.Height-1,-1,-1) : 各列の、下から順にみていきます。\n",
    "* target_row : 空いている行の一番下。初期値は一番下の行として、ぷよが存在するならば一つ上にあげます。"
   ]
  },
  {
   "cell_type": "markdown",
   "metadata": {},
   "source": [
    "試してみます"
   ]
  },
  {
   "cell_type": "code",
   "execution_count": 4,
   "metadata": {},
   "outputs": [
    {
     "name": "stdout",
     "output_type": "stream",
     "text": [
      "[[0 0 0 0 0 0]\n",
      " [0 0 0 0 0 0]\n",
      " [0 0 0 0 0 0]\n",
      " [0 0 0 0 0 0]\n",
      " [0 0 0 0 0 0]\n",
      " [0 0 0 0 0 0]\n",
      " [0 0 0 0 0 0]\n",
      " [0 3 0 4 0 0]\n",
      " [0 2 1 2 0 0]\n",
      " [0 4 1 3 0 0]\n",
      " [0 4 2 4 1 0]\n",
      " [0 2 2 4 1 4]]\n"
     ]
    }
   ],
   "source": [
    "board = utils.create_sample_board()\n",
    "puyo, done = utils.create_new_puyo(board)\n",
    "puyo.rotation = 0\n",
    "board = utils.set_puyo_to_board(board, puyo)\n",
    "fall(board)\n",
    "print(board)"
   ]
  },
  {
   "cell_type": "markdown",
   "metadata": {},
   "source": [
    "##　4.3 check erase\n",
    "\n",
    "Union-Find使って、連結性を求めます。"
   ]
  },
  {
   "cell_type": "markdown",
   "metadata": {},
   "source": [
    "### Union-FInd"
   ]
  },
  {
   "cell_type": "code",
   "execution_count": 5,
   "metadata": {},
   "outputs": [],
   "source": [
    "class UnionFind():\n",
    "    def __init__(self, n):\n",
    "        self.n = n\n",
    "        self.parents = np.arange(n)\n",
    "\n",
    "    def find(self, x):\n",
    "        if self.parents[x] == x:\n",
    "            return x\n",
    "        else:\n",
    "            self.parents[x] = self.find(self.parents[x])\n",
    "            return self.parents[x]\n",
    "\n",
    "    def merge(self, x, y):\n",
    "        x = self.find(x)\n",
    "        y = self.find(y)\n",
    "        if x == y:\n",
    "            return\n",
    "        if x > y:\n",
    "            x, y = y, x\n",
    "        self.parents[y] = x\n",
    "\n",
    "    def clear_groups(self, limit):\n",
    "        clear_list=[]\n",
    "        uf_list = [[] for _ in range(self.n)]\n",
    "        for i in range(self.n):\n",
    "            pa = self.find(i)\n",
    "            uf_list[pa].append(i)\n",
    "        for i in range(self.n):\n",
    "            if len(uf_list[i]) >= limit:\n",
    "                clear_list.append(uf_list[i])\n",
    "        return clear_list\n"
   ]
  },
  {
   "cell_type": "markdown",
   "metadata": {},
   "source": [
    "### check_erase"
   ]
  },
  {
   "cell_type": "code",
   "execution_count": 6,
   "metadata": {},
   "outputs": [],
   "source": [
    "def check_erase(board, height=CFG.Height, width=CFG.Width):\n",
    "    uf = UnionFind(height * width)\n",
    "    \n",
    "    for j in range(width):\n",
    "        for i in range(height-1, -1, -1):\n",
    "            if board[i, j] == 0:\n",
    "                break\n",
    "\n",
    "            if i > 0 and board[i, j] == board[i - 1, j]:\n",
    "                uf.merge(width * i + j, width * (i - 1) + j )\n",
    "            if j < width - 1 and board[i, j]==board[i, j + 1]:\n",
    "                uf.merge(width * i + j, width * i + j + 1)\n",
    "    \n",
    "    return uf.clear_groups(4)\n"
   ]
  },
  {
   "cell_type": "markdown",
   "metadata": {},
   "source": [
    "試してみます。数回やらないと何も出ないかも。"
   ]
  },
  {
   "cell_type": "code",
   "execution_count": 7,
   "metadata": {},
   "outputs": [
    {
     "name": "stdout",
     "output_type": "stream",
     "text": [
      "[[0 0 0 0 0 0]\n",
      " [0 0 0 0 0 0]\n",
      " [0 0 0 0 0 0]\n",
      " [0 0 0 0 0 0]\n",
      " [0 0 0 0 0 0]\n",
      " [0 0 0 0 0 0]\n",
      " [0 0 0 0 0 0]\n",
      " [0 0 1 0 0 3]\n",
      " [0 0 3 0 0 2]\n",
      " [4 0 2 0 0 3]\n",
      " [4 0 4 3 3 4]\n",
      " [4 0 2 1 4 4]]\n",
      "[]\n"
     ]
    }
   ],
   "source": [
    "board = utils.create_sample_board()\n",
    "puyo, done = utils.create_new_puyo(board)\n",
    "puyo.rotation = 0\n",
    "board = utils.set_puyo_to_board(board, puyo)\n",
    "fall(board)\n",
    "print(board)\n",
    "print(check_erase(board))"
   ]
  },
  {
   "cell_type": "markdown",
   "metadata": {},
   "source": [
    "### erasing\n",
    "\n",
    "　check_eraseに入れてもいいのですが、公式は区別しているので、分けます。スコアのために、色の種類と消すぷよの数を出します。boardの中のぷよは消えます。"
   ]
  },
  {
   "cell_type": "code",
   "execution_count": 8,
   "metadata": {},
   "outputs": [],
   "source": [
    "def erasing(board, clear_groups, height=CFG.Height, width=CFG.Width):\n",
    "    if len(clear_groups) == 0:\n",
    "        return 0, 0\n",
    "    color = np.zeros(5)\n",
    "    piece = 0\n",
    "    color_num = 0\n",
    "    for item in clear_groups:\n",
    "        x, y = item[0] % width, item[0] // width\n",
    "        c1 = board[y, x]\n",
    "        color[c1] = 1\n",
    "        for item2 in item:\n",
    "            x, y = item2 % width, item2 // width\n",
    "            board[y, x] = 0\n",
    "            piece +=1\n",
    "    for i in range(5):\n",
    "        if color[i]:\n",
    "            color_num += 1\n",
    "    return piece, color_num"
   ]
  },
  {
   "cell_type": "markdown",
   "metadata": {},
   "source": [
    "試してみましょう。"
   ]
  },
  {
   "cell_type": "code",
   "execution_count": 9,
   "metadata": {},
   "outputs": [
    {
     "name": "stdout",
     "output_type": "stream",
     "text": [
      "[[0 0 0 0 0 0]\n",
      " [0 0 0 0 0 0]\n",
      " [0 0 0 0 0 0]\n",
      " [0 0 0 0 0 0]\n",
      " [0 0 0 0 0 0]\n",
      " [0 0 0 0 0 0]\n",
      " [0 0 0 3 0 0]\n",
      " [0 0 0 4 0 0]\n",
      " [0 0 2 4 0 2]\n",
      " [0 0 3 3 0 4]\n",
      " [2 0 3 1 0 4]\n",
      " [3 2 4 1 0 4]]\n",
      "[]\n",
      "[[0 0 0 0 0 0]\n",
      " [0 0 0 0 0 0]\n",
      " [0 0 0 0 0 0]\n",
      " [0 0 0 0 0 0]\n",
      " [0 0 0 0 0 0]\n",
      " [0 0 0 0 0 0]\n",
      " [0 0 0 3 0 0]\n",
      " [0 0 0 4 0 0]\n",
      " [0 0 2 4 0 2]\n",
      " [0 0 3 3 0 4]\n",
      " [2 0 3 1 0 4]\n",
      " [3 2 4 1 0 4]]\n",
      "0 0\n"
     ]
    }
   ],
   "source": [
    "board = utils.create_sample_board()\n",
    "puyo, done = utils.create_new_puyo(board)\n",
    "puyo.rotation = 0\n",
    "board = utils.set_puyo_to_board(board, puyo)\n",
    "fall(board)\n",
    "print(board)\n",
    "clear_groups = check_erase(board)\n",
    "print(clear_groups)\n",
    "piece, color = erasing(board, clear_groups)\n",
    "print(board)\n",
    "print(piece, color)"
   ]
  },
  {
   "cell_type": "markdown",
   "metadata": {},
   "source": [
    "## 4.4 Scoring\n",
    "\n",
    "消される段階ごとに、\n",
    "pieceの数、colorの数、rensaの数で、ボーナスとして、数倍にします。"
   ]
  },
  {
   "cell_type": "markdown",
   "metadata": {},
   "source": [
    "### score constant"
   ]
  },
  {
   "cell_type": "code",
   "execution_count": 10,
   "metadata": {},
   "outputs": [],
   "source": [
    "rensaBonus = [\n",
    "  0, 8, 16, 32, 64, 96, 128, 160, 192, 224,\n",
    "  256, 288, 320, 352, 384, 416, 448, 480, 512,\n",
    "  544, 576, 608, 640, 672]\n",
    "pieceBonus = [0, 0, 0, 0, 2, 3, 4, 5, 6, 7, 10, 10]\n",
    "colorBonus = [0, 0, 3, 6, 12, 24]"
   ]
  },
  {
   "cell_type": "markdown",
   "metadata": {},
   "source": [
    "### calc_score"
   ]
  },
  {
   "cell_type": "code",
   "execution_count": 11,
   "metadata": {},
   "outputs": [],
   "source": [
    "def calc_score(rensa, piece, color):\n",
    "   rensa = min(rensa, len(rensaBonus) - 1)\n",
    "   piece = min(piece, len(pieceBonus) - 1)\n",
    "   color = min(color, len(colorBonus) - 1)\n",
    "\n",
    "   scale = rensaBonus[rensa] + pieceBonus[piece] + colorBonus[color]\n",
    "   if scale == 0:\n",
    "      scale = 1\n",
    "   return scale * piece * 10\n"
   ]
  },
  {
   "cell_type": "markdown",
   "metadata": {},
   "source": [
    "試してみます。"
   ]
  },
  {
   "cell_type": "code",
   "execution_count": 12,
   "metadata": {},
   "outputs": [
    {
     "name": "stdout",
     "output_type": "stream",
     "text": [
      "[[0 0 0 0 0 0]\n",
      " [0 0 0 0 0 0]\n",
      " [0 0 0 0 0 0]\n",
      " [0 0 0 0 0 0]\n",
      " [0 0 0 0 0 0]\n",
      " [0 0 0 0 0 0]\n",
      " [0 0 0 0 0 0]\n",
      " [0 0 1 0 0 3]\n",
      " [0 0 4 0 0 4]\n",
      " [0 0 3 3 2 2]\n",
      " [0 0 3 2 4 3]\n",
      " [0 2 1 4 1 2]]\n",
      "[]\n",
      "[[0 0 0 0 0 0]\n",
      " [0 0 0 0 0 0]\n",
      " [0 0 0 0 0 0]\n",
      " [0 0 0 0 0 0]\n",
      " [0 0 0 0 0 0]\n",
      " [0 0 0 0 0 0]\n",
      " [0 0 0 0 0 0]\n",
      " [0 0 1 0 0 3]\n",
      " [0 0 4 0 0 4]\n",
      " [0 0 3 3 2 2]\n",
      " [0 0 3 2 4 3]\n",
      " [0 2 1 4 1 2]]\n",
      "0 0\n",
      "0\n"
     ]
    }
   ],
   "source": [
    "board = utils.create_sample_board()\n",
    "puyo, done = utils.create_new_puyo(board)\n",
    "puyo.rotation = 0\n",
    "board = utils.set_puyo_to_board(board, puyo)\n",
    "fall(board)\n",
    "print(board)\n",
    "clear_groups = check_erase(board)\n",
    "print(clear_groups)\n",
    "piece, color = erasing(board, clear_groups)\n",
    "print(board)\n",
    "print(piece, color)\n",
    "print(calc_score(1, piece, color))"
   ]
  },
  {
   "cell_type": "markdown",
   "metadata": {},
   "source": [
    "## 4.5 next_board"
   ]
  },
  {
   "cell_type": "code",
   "execution_count": 13,
   "metadata": {},
   "outputs": [],
   "source": [
    "def next_board(board, puyo, action):\n",
    "      puyo.x = action[0]\n",
    "      puyo.rotation = action[1]\n",
    "      if utils.check_collision(board, puyo):\n",
    "         return board, 0, True\n",
    "      new_board = utils.set_puyo_to_board(board, puyo)\n",
    "   \n",
    "      reward = 0\n",
    "      rensa = 0\n",
    "      while True:\n",
    "         utils.fall(new_board)\n",
    "         clear_groups = utils.check_erase(new_board)\n",
    "         if not len(clear_groups):\n",
    "            break\n",
    "         piece, color = utils.erasing(new_board, clear_groups)\n",
    "         rensa += 1\n",
    "         reward += utils.calc_score(rensa, piece, color)\n",
    "\n",
    "      return new_board, reward, False"
   ]
  },
  {
   "cell_type": "markdown",
   "metadata": {},
   "source": [
    "これらの関数も使いたいので、fb_utilsに保存しておきます。"
   ]
  },
  {
   "cell_type": "code",
   "execution_count": 14,
   "metadata": {},
   "outputs": [
    {
     "name": "stdout",
     "output_type": "stream",
     "text": [
      "Overwriting puyo_utils.py\n"
     ]
    }
   ],
   "source": [
    "%%writefile puyo_utils.py\n",
    "import numpy as np\n",
    "import random\n",
    "\n",
    "class CFG:\n",
    "    Height = 12\n",
    "    Width =6\n",
    "\n",
    "    rensaBonus = [\n",
    "        0, 8, 16, 32, 64, 96, 128, 160, 192, 224,\n",
    "        256, 288, 320, 352, 384, 416, 448, 480, 512,\n",
    "        544, 576, 608, 640, 672]\n",
    "    pieceBonus = [0, 0, 0, 0, 2, 3, 4, 5, 6, 7, 10, 10]\n",
    "    colorBonus = [0, 0, 3, 6, 12, 24]\n",
    "\n",
    "\n",
    "class Puyopuyo:\n",
    "    def __init__(self):\n",
    "        self.x = 2\n",
    "        self.y = 0\n",
    "        self.dx = [1,  0, -1, 0]\n",
    "        self.dy = [0, -1,  0, 1]\n",
    "        self.centerPuyo = random.randint(1,4)\n",
    "        self.movablePuyo = random.randint(1,4)\n",
    "        self.rotation = 1    \n",
    "\n",
    "\n",
    "class UnionFind():\n",
    "    def __init__(self, n):\n",
    "        self.n = n\n",
    "        self.parents = np.arange(n)\n",
    "\n",
    "    def find(self, x):\n",
    "        if self.parents[x] == x:\n",
    "            return x\n",
    "        else:\n",
    "            self.parents[x] = self.find(self.parents[x])\n",
    "            return self.parents[x]\n",
    "\n",
    "    def merge(self, x, y):\n",
    "        x = self.find(x)\n",
    "        y = self.find(y)\n",
    "        if x == y:\n",
    "            return\n",
    "        if x > y:\n",
    "            x, y = y, x\n",
    "        self.parents[y] = x\n",
    "\n",
    "    def clear_groups(self, limit):\n",
    "        clear_list=[]\n",
    "        uf_list = [[] for _ in range(self.n)]\n",
    "        for i in range(self.n):\n",
    "            pa = self.find(i)\n",
    "            uf_list[pa].append(i)\n",
    "        for i in range(self.n):\n",
    "            if len(uf_list[i]) >= limit:\n",
    "                clear_list.append(uf_list[i])\n",
    "        return clear_list\n",
    "\n",
    "\n",
    "class utils:\n",
    "    def create_sample_board(height=CFG.Height, width=CFG.Width):\n",
    "        sample_list = np.arange(width)\n",
    "        random.shuffle(sample_list)\n",
    "        board = np.zeros(height * width, dtype = np.int32).reshape(height, width)\n",
    "\n",
    "        for j in range(width):\n",
    "            if sample_list[j]:\n",
    "                for i in range(sample_list[j]):\n",
    "                    board[height - 1 - i, j] = random.randint(1, 4)\n",
    "\n",
    "        return board\n",
    "\n",
    "    def create_new_puyo(board):\n",
    "        new_puyo = Puyopuyo()\n",
    "        done = False\n",
    "        if board[2, 0] > 0:\n",
    "            done = True\n",
    "        return new_puyo, done    \n",
    "\n",
    "    def set_puyo_to_board(board, puyo):\n",
    "        new_board = np.copy(board)\n",
    "        new_board[puyo.y, puyo.x ] = puyo.centerPuyo\n",
    "        puyo_dy = puyo.y + puyo.dy[puyo.rotation]\n",
    "        puyo_dx = puyo.x + puyo.dx[puyo.rotation]\n",
    "        if puyo_dy >= 0:\n",
    "            new_board[puyo_dy, puyo_dx ] = puyo.movablePuyo\n",
    "        return new_board\n",
    "\n",
    "    def check_collision(board, puyo):\n",
    "        rot = puyo.rotation\n",
    "        if rot == 0 and puyo.x == 5:\n",
    "            return True\n",
    "        if rot == 2 and puyo.x == 0:\n",
    "            return True\n",
    "        if puyo.y >= 12:\n",
    "            return True\n",
    "        if puyo.y == 11 and rot == 3 :\n",
    "            return True\n",
    "        if board[puyo.y, puyo.x] > 0 :\n",
    "            return True\n",
    "        if not( rot == 1) and board[puyo.y + puyo.dy[rot], puyo.x + puyo.dx[rot]] > 0:\n",
    "            return True\n",
    "        return False\n",
    "    \n",
    "\n",
    "    def create_action_list(board):\n",
    "        puyo2 = Puyopuyo()\n",
    "        res = []\n",
    "        for rot in range(4):\n",
    "            for pos1 in range(6):\n",
    "                puyo2.x = pos1\n",
    "                puyo2.rotation = rot\n",
    "                if not utils.check_collision(board, puyo2):   \n",
    "                    res.append([pos1, rot])\n",
    "        return res\n",
    "\n",
    "    def auto_fix_puyo(board, puyo):\n",
    "        for i in range(CFG.Height):\n",
    "            puyo.y = i\n",
    "            if utils.check_collision(board, puyo):\n",
    "                puyo.y -= 1\n",
    "                break\n",
    "        new_board = utils.set_puyo_to_board(board, puyo)\n",
    "        return new_board\n",
    "    \n",
    "    def fall(board):\n",
    "        for j in range(CFG.Width):\n",
    "            target_row = CFG.Height - 1\n",
    "            for i in range(CFG.Height-1,-1,-1):\n",
    "                if board[i,j] > 0:\n",
    "                    if target_row > i:\n",
    "                        board[target_row,j] = board[i, j]\n",
    "                        board[i, j] = 0\n",
    "                    target_row -= 1\n",
    "\n",
    "    def check_erase(board, height=CFG.Height, width=CFG.Width):\n",
    "        uf = UnionFind(height * width)\n",
    "        \n",
    "        for j in range(width):\n",
    "            for i in range(height-1, -1, -1):\n",
    "                if board[i, j] == 0:\n",
    "                    break\n",
    "\n",
    "                if i > 0 and board[i, j] == board[i - 1, j]:\n",
    "                    uf.merge(width * i + j, width * (i - 1) + j )\n",
    "                if j < width - 1 and board[i, j]==board[i, j + 1]:\n",
    "                    uf.merge(width * i + j, width * i + j + 1)\n",
    "        \n",
    "        return uf.clear_groups(4)\n",
    "\n",
    "\n",
    "    def erasing(board, clear_groups, height=CFG.Height, width=CFG.Width):\n",
    "        if len(clear_groups) == 0:\n",
    "            return 0, 0\n",
    "        color = np.zeros(6)\n",
    "        piece = 0\n",
    "        color_num = 0\n",
    "        for item in clear_groups:\n",
    "            x, y = item[0] % width, item[0] // width\n",
    "            c1 = board[y, x]\n",
    "            color[c1] = 1\n",
    "            for item2 in item:\n",
    "                x, y = item2 % width, item2 // width\n",
    "                board[y, x] = 0\n",
    "                piece +=1\n",
    "        for i in range(6):\n",
    "            if color[i]:\n",
    "                color_num += 1\n",
    "        return piece, color_num\n",
    "\n",
    "    def calc_score(rensa, piece, color):\n",
    "        rensa = min(rensa, len(CFG.rensaBonus) - 1)\n",
    "        piece = min(piece, len(CFG.pieceBonus) - 1)\n",
    "        color = min(color, len(CFG.colorBonus) - 1)\n",
    "\n",
    "        scale = CFG.rensaBonus[rensa] + CFG.pieceBonus[piece] + CFG.colorBonus[color]\n",
    "        if scale == 0:\n",
    "            scale = 1\n",
    "        return scale * piece * 10\n",
    "\n",
    "    def next_board(board, puyo, action):\n",
    "        puyo.x = action[0]\n",
    "        puyo.rotation = action[1]\n",
    "        if utils.check_collision(board, puyo):\n",
    "            return board, 0, True\n",
    "        new_board = utils.set_puyo_to_board(board, puyo)\n",
    "    \n",
    "        reward = 0\n",
    "        rensa = 0\n",
    "        while True:\n",
    "            utils.fall(new_board)\n",
    "            clear_groups = utils.check_erase(new_board)\n",
    "            if not len(clear_groups):\n",
    "                break\n",
    "            piece, color = utils.erasing(new_board, clear_groups)\n",
    "            rensa += 1\n",
    "            reward += utils.calc_score(rensa, piece, color)\n",
    "\n",
    "        return new_board, reward, False"
   ]
  }
 ],
 "metadata": {
  "kernelspec": {
   "display_name": "Python 3",
   "language": "python",
   "name": "python3"
  },
  "language_info": {
   "codemirror_mode": {
    "name": "ipython",
    "version": 3
   },
   "file_extension": ".py",
   "mimetype": "text/x-python",
   "name": "python",
   "nbconvert_exporter": "python",
   "pygments_lexer": "ipython3",
   "version": "3.11.6"
  }
 },
 "nbformat": 4,
 "nbformat_minor": 2
}
