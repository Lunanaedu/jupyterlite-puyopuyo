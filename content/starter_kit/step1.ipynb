{
 "cells": [
  {
   "cell_type": "markdown",
   "metadata": {},
   "source": [
    "Author : educational_ai      ©educational_ai"
   ]
  },
  {
   "cell_type": "markdown",
   "metadata": {},
   "source": [
    "# Step1 board"
   ]
  },
  {
   "cell_type": "markdown",
   "metadata": {},
   "source": [
    "　これから、jupyter　notebookを使ってプログラミングします。\n",
    "\n",
    "　puyopuyoは、javascriptで教育版が公開されているので、その仕様をできる限り再現します\n",
    "\n",
    "　このチュートリアルが終わるときには、puyopuyoを使った深層強化学習ができます。\n",
    "\n",
    "　前半は、puyopuyoのルールを実装していき、深層強化学習に関しては、後半で説明します。\n",
    "\n",
    "　深層強化学習を、webクライアントで行うためには、pyodideというモジュールを使います。pyodideを使用しているために、いくつか特殊なコードが入っています。また、pyodideで深層強化学習するならば、tensorflowとpytorchは使用できないため、フレームワークDezeroを一部改変したdezero_embを使用します。"
   ]
  },
  {
   "cell_type": "markdown",
   "metadata": {},
   "source": [
    "# 1 boardを作ってみる。\n",
    "\n",
    "　まず、boardを作ってみます。公式は　高さ１２ x 幅６の大きさです。\n",
    "\n",
    "numpyを使用します。\n",
    "\n",
    "コードを実行してみましょう。"
   ]
  },
  {
   "cell_type": "code",
   "execution_count": 1,
   "metadata": {},
   "outputs": [],
   "source": [
    "import numpy as np\n",
    "\n",
    "Height = 12\n",
    "Width = 6\n",
    "board = np.zeros(Width * Height).reshape(Height, Width)"
   ]
  },
  {
   "cell_type": "markdown",
   "metadata": {},
   "source": [
    "* import numpy as np  : numpyをインポートします。\n",
    "* Hight = 12  :　高さを設定\n",
    "* Width = 16  :  幅の設定\n",
    "* np.zeros() : 初期値0のnumpy配列を作成します。\n",
    "* reshape(Height,Width) : 幅Width、高さHeightの配列に変換します。"
   ]
  },
  {
   "cell_type": "markdown",
   "metadata": {},
   "source": [
    "それでは、中身を見てみましょう。"
   ]
  },
  {
   "cell_type": "code",
   "execution_count": 2,
   "metadata": {},
   "outputs": [
    {
     "name": "stdout",
     "output_type": "stream",
     "text": [
      "(12, 6)\n",
      "2\n",
      "[[0. 0. 0. 0. 0. 0.]\n",
      " [0. 0. 0. 0. 0. 0.]\n",
      " [0. 0. 0. 0. 0. 0.]\n",
      " [0. 0. 0. 0. 0. 0.]\n",
      " [0. 0. 0. 0. 0. 0.]\n",
      " [0. 0. 0. 0. 0. 0.]\n",
      " [0. 0. 0. 0. 0. 0.]\n",
      " [0. 0. 0. 0. 0. 0.]\n",
      " [0. 0. 0. 0. 0. 0.]\n",
      " [0. 0. 0. 0. 0. 0.]\n",
      " [0. 0. 0. 0. 0. 0.]\n",
      " [0. 0. 0. 0. 0. 0.]]\n"
     ]
    }
   ],
   "source": [
    "print(board.shape)\n",
    "print(board.ndim)\n",
    "print(board)\n"
   ]
  },
  {
   "cell_type": "markdown",
   "metadata": {},
   "source": [
    "* board.shape : 配列の大きさを表示します。\n",
    "* board.ndim : 配列の次元数を表示します。\n",
    "* print(board):　boardを表示します。"
   ]
  },
  {
   "cell_type": "markdown",
   "metadata": {},
   "source": [
    "サンプルボードを作ってみます。\n",
    "\n",
    "空のボードよりも、サンプルボードの方がイメージしやすいですよね。\n",
    "\n",
    "randomを使用します。"
   ]
  },
  {
   "cell_type": "code",
   "execution_count": 3,
   "metadata": {},
   "outputs": [
    {
     "name": "stdout",
     "output_type": "stream",
     "text": [
      "[0 1 2 3 4 5]\n",
      "[2 5 0 4 3 1]\n"
     ]
    }
   ],
   "source": [
    "import numpy as np\n",
    "import random\n",
    "\n",
    "sample_list = np.arange(Width)\n",
    "print(sample_list)\n",
    "random.shuffle(sample_list)\n",
    "print(sample_list)"
   ]
  },
  {
   "cell_type": "markdown",
   "metadata": {},
   "source": [
    "* np.arange(Width) : 0 から　Width-1　までの配列を作ります。\n",
    "* random.shuffle(sample_list) : 　シャッフルして並べ替えます。"
   ]
  },
  {
   "cell_type": "code",
   "execution_count": 4,
   "metadata": {},
   "outputs": [
    {
     "name": "stdout",
     "output_type": "stream",
     "text": [
      "[[0. 0. 0. 0. 0. 0.]\n",
      " [0. 0. 0. 0. 0. 0.]\n",
      " [0. 0. 0. 0. 0. 0.]\n",
      " [0. 0. 0. 0. 0. 0.]\n",
      " [0. 0. 0. 0. 0. 0.]\n",
      " [0. 0. 0. 0. 0. 0.]\n",
      " [0. 0. 0. 0. 0. 0.]\n",
      " [0. 1. 0. 0. 0. 0.]\n",
      " [0. 3. 0. 2. 0. 0.]\n",
      " [0. 4. 0. 1. 2. 0.]\n",
      " [1. 4. 0. 1. 4. 0.]\n",
      " [2. 3. 0. 2. 1. 2.]]\n"
     ]
    }
   ],
   "source": [
    "Height = 12\n",
    "Width = 6\n",
    "board = np.zeros(Width * Height).reshape(Height, Width)\n",
    "\n",
    "for j in range(Width):\n",
    "    if sample_list[j]:\n",
    "        for i in range(sample_list[j]):\n",
    "            board[Height - 1 - i, j] = random.randint(1, 4)\n",
    "\n",
    "print(board)"
   ]
  },
  {
   "cell_type": "markdown",
   "metadata": {},
   "source": [
    "* board[Height - 1 - i, j] : 高さHight - 1 -i、横jの範囲を指定。一番下は、Height-1 一番上は0　一番左は0、一番右はwidth-1\n",
    "\n",
    "一般的なXY座標の書き方と異なることと、0から始まることに注意。\n",
    "\n",
    "何も存在しない状態は0、ぷよの種類は5種類なので、1～5を割り当てる。"
   ]
  },
  {
   "cell_type": "markdown",
   "metadata": {},
   "source": [
    "サンプルボードはこの後も使いたいので、関数にして保存しておきます。"
   ]
  },
  {
   "cell_type": "code",
   "execution_count": 5,
   "metadata": {},
   "outputs": [
    {
     "name": "stdout",
     "output_type": "stream",
     "text": [
      "Writing puyo_utils.py\n"
     ]
    }
   ],
   "source": [
    "%%writefile puyo_utils.py\n",
    "import numpy as np\n",
    "import random\n",
    "\n",
    "class utils:\n",
    "    def create_sample_board(height=12, width=6):\n",
    "        sample_list = np.arange(width)\n",
    "        random.shuffle(sample_list)\n",
    "        board = np.zeros(height * width, dtype = np.int32).reshape(height, width)\n",
    "\n",
    "        for j in range(width):\n",
    "            if sample_list[j]:\n",
    "                for i in range(sample_list[j]):\n",
    "                    board[height - 1 - i, j] = random.randint(1, 4)\n",
    "\n",
    "        return board"
   ]
  },
  {
   "cell_type": "markdown",
   "metadata": {},
   "source": [
    "* %%writefile puyo_utils.py : puyo_utils.pyを作成する。\n",
    "* def create_sample_board(hight=12, width=6) : pythonの関数宣言で、hight=12, whidth=6と初期設定されています。\n",
    "\n",
    "どこに作成されるか確認しましょう。step1.ipynbと同じフォルダに作成されているはずです。"
   ]
  }
 ],
 "metadata": {
  "kernelspec": {
   "display_name": "Python 3",
   "language": "python",
   "name": "python3"
  },
  "language_info": {
   "codemirror_mode": {
    "name": "ipython",
    "version": 3
   },
   "file_extension": ".py",
   "mimetype": "text/x-python",
   "name": "python",
   "nbconvert_exporter": "python",
   "pygments_lexer": "ipython3",
   "version": "3.11.6"
  }
 },
 "nbformat": 4,
 "nbformat_minor": 2
}
