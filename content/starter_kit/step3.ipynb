{
 "cells": [
  {
   "cell_type": "markdown",
   "metadata": {},
   "source": [
    "Author : educational_ai ©educational_ai"
   ]
  },
  {
   "cell_type": "markdown",
   "metadata": {},
   "source": [
    "# Step3 Action選択肢と衝突判定"
   ]
  },
  {
   "cell_type": "markdown",
   "metadata": {},
   "source": [
    "# 3 衝突判定をして、Action選択肢を探る。\n",
    "\n",
    "　どこにpuyoを移動させて、回転させるかという選択肢は、幅6 x 回転4　-2 = 22　の可能性があるようにも見えますが、他のpuyoと衝突するかもしれないので、衝突判定が必要です。\n",
    "\n",
    "step2で作った、set_puyo_to_boardを改造して、衝突判定の関数を作ります。"
   ]
  },
  {
   "cell_type": "code",
   "execution_count": 1,
   "metadata": {},
   "outputs": [],
   "source": [
    "def check_collision(board, puyo):\n",
    "   rot = puyo.rotation\n",
    "   if rot == 0 and puyo.x == 5:\n",
    "      return True\n",
    "   if rot == 2 and puyo.x == 0:\n",
    "      return True\n",
    "   if puyo.y >= 12:\n",
    "      return True\n",
    "   if puyo.y == 11 and rot == 3 :\n",
    "      return True\n",
    "   if board[puyo.y, puyo.x] > 0 :\n",
    "      return True\n",
    "   if not( rot == 1) and board[puyo.y + puyo.dy[rot], puyo.x + puyo.dx[rot]] > 0:\n",
    "      return True\n",
    "   return False"
   ]
  },
  {
   "cell_type": "markdown",
   "metadata": {},
   "source": [
    "この関数は、そのブロックがboardの中に入っているか、逆に言えば、はみ出ていないか判定もしています。"
   ]
  },
  {
   "cell_type": "markdown",
   "metadata": {},
   "source": [
    "check_collisionを使って、actionの選択肢をリスト化します。\n",
    "\n",
    "actionの選択肢は、スタートする列の位置と回転数をリストとして出力します。"
   ]
  },
  {
   "cell_type": "code",
   "execution_count": 2,
   "metadata": {},
   "outputs": [],
   "source": [
    "import numpy as np\n",
    "from puyo_utils import *\n",
    "\n",
    "def create_action_list(board):\n",
    "    puyo2 = Puyopuyo()\n",
    "    res = []\n",
    "    for rot in range(4):\n",
    "        for pos1 in range(6):\n",
    "            puyo2.x = pos1\n",
    "            puyo2.rotation = rot\n",
    "            if not check_collision(board, puyo2):   \n",
    "                res.append([pos1, rot])\n",
    "    return res"
   ]
  },
  {
   "cell_type": "markdown",
   "metadata": {},
   "source": [
    "action_list　は、numpyではないので、少し注意が必要です。\n",
    "それでは、使ってみましょう。"
   ]
  },
  {
   "cell_type": "code",
   "execution_count": 3,
   "metadata": {},
   "outputs": [
    {
     "name": "stdout",
     "output_type": "stream",
     "text": [
      "[[0, 0], [1, 0], [2, 0], [3, 0], [4, 0], [0, 1], [1, 1], [2, 1], [3, 1], [4, 1], [5, 1], [1, 2], [2, 2], [3, 2], [4, 2], [5, 2], [0, 3], [1, 3], [2, 3], [3, 3], [4, 3], [5, 3]]\n"
     ]
    }
   ],
   "source": [
    "board = utils.create_sample_board()\n",
    "action_list=create_action_list(board)\n",
    "\n",
    "print(action_list)\n"
   ]
  },
  {
   "cell_type": "markdown",
   "metadata": {},
   "source": [
    "action_listは厳密には、ぷよの横移動と回転可能性が完全には保証されていません。実ゲームでどこまで応用可能かはやってみてからの調整が必要です。"
   ]
  },
  {
   "cell_type": "markdown",
   "metadata": {},
   "source": [
    "これらの関数も使いたいので、puyo_utilsに保存しておきます。"
   ]
  },
  {
   "cell_type": "code",
   "execution_count": 4,
   "metadata": {},
   "outputs": [
    {
     "name": "stdout",
     "output_type": "stream",
     "text": [
      "Overwriting puyo_utils.py\n"
     ]
    }
   ],
   "source": [
    "%%writefile puyo_utils.py\n",
    "import numpy as np\n",
    "import random\n",
    "\n",
    "class CFG:\n",
    "    Height = 12\n",
    "    Width = 6\n",
    "\n",
    "\n",
    "class Puyopuyo:\n",
    "    def __init__(self):\n",
    "        self.x = 2\n",
    "        self.y = 0\n",
    "        self.dx = [1,  0, -1, 0]\n",
    "        self.dy = [0, -1,  0, 1]\n",
    "        self.centerPuyo = random.randint(1,4)\n",
    "        self.movablePuyo = random.randint(1,4)\n",
    "        self.rotation = 1    \n",
    "\n",
    "\n",
    "class utils:\n",
    "    def create_sample_board(height=CFG.Height, width=CFG.Width):\n",
    "        sample_list = np.arange(width)\n",
    "        random.shuffle(sample_list)\n",
    "        board = np.zeros(height * width, dtype = np.int32).reshape(height, width)\n",
    "\n",
    "        for j in range(width):\n",
    "            if sample_list[j]:\n",
    "                for i in range(sample_list[j]):\n",
    "                    board[height - 1 - i, j] = random.randint(1, 4)\n",
    "\n",
    "        return board\n",
    "\n",
    "    def create_new_puyo(board):\n",
    "        new_puyo = Puyopuyo()\n",
    "        done = False\n",
    "        if board[2, 0] > 0:\n",
    "            done = True\n",
    "        return new_puyo, done    \n",
    "\n",
    "    def set_puyo_to_board(board, puyo):\n",
    "        new_board = np.copy(board)\n",
    "        new_board[puyo.y, puyo.x ] = puyo.centerPuyo\n",
    "        puyo_dy = puyo.y + puyo.dy[puyo.rotation]\n",
    "        puyo_dx = puyo.x + puyo.dx[puyo.rotation]\n",
    "        if puyo_dy >= 0:\n",
    "            new_board[puyo_dy, puyo_dx ] = puyo.movablePuyo\n",
    "        return new_board\n",
    "\n",
    "    def check_collision(board, puyo):\n",
    "        rot = puyo.rotation\n",
    "        if rot == 0 and puyo.x == 5:\n",
    "            return True\n",
    "        if rot == 2 and puyo.x == 0:\n",
    "            return True\n",
    "        if puyo.y >= 12:\n",
    "            return True\n",
    "        if puyo.y == 11 and rot == 3 :\n",
    "            return True\n",
    "        if board[puyo.y, puyo.x] > 0 :\n",
    "            return True\n",
    "        if not( rot == 1) and board[puyo.y + puyo.dy[rot], puyo.x + puyo.dx[rot]] > 0:\n",
    "            return True\n",
    "        return False\n",
    "    \n",
    "\n",
    "    def create_action_list(board):\n",
    "        puyo2 = Puyopuyo()\n",
    "        res = []\n",
    "        for rot in range(4):\n",
    "            for pos1 in range(6):\n",
    "                puyo2.x = pos1\n",
    "                puyo2.rotation = rot\n",
    "                if not utils.check_collision(board, puyo2):   \n",
    "                    res.append([pos1, rot])\n",
    "        return res\n"
   ]
  },
  {
   "cell_type": "markdown",
   "metadata": {},
   "source": [
    "* class utils : 関数をまとめて、utilsにしました。名前がぶつからないようにします。"
   ]
  }
 ],
 "metadata": {
  "kernelspec": {
   "display_name": "Python 3",
   "language": "python",
   "name": "python3"
  },
  "language_info": {
   "codemirror_mode": {
    "name": "ipython",
    "version": 3
   },
   "file_extension": ".py",
   "mimetype": "text/x-python",
   "name": "python",
   "nbconvert_exporter": "python",
   "pygments_lexer": "ipython3",
   "version": "3.11.6"
  }
 },
 "nbformat": 4,
 "nbformat_minor": 2
}
