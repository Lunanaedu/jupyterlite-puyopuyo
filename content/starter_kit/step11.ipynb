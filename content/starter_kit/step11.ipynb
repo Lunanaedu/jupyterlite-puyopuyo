{
 "cells": [
  {
   "cell_type": "markdown",
   "metadata": {},
   "source": [
    "# Step11 Train"
   ]
  },
  {
   "cell_type": "markdown",
   "metadata": {},
   "source": [
    "# 11 trainは、ランダムから深堀をコントロール\n",
    "\n",
    " trainでは、epsilonを使って、緩やかにランダムの要素を減らしていきます。"
   ]
  },
  {
   "cell_type": "markdown",
   "metadata": {},
   "source": [
    "## 11.1 コードを見ていきます。"
   ]
  },
  {
   "cell_type": "code",
   "execution_count": null,
   "metadata": {},
   "outputs": [],
   "source": [
    "np.random.seed(seed=123)\n",
    "env = EnvPuyopuyo()\n",
    "agent = DQNAgent()\n",
    "\n",
    "\n",
    "for epochs in range(CFG_ML.num_epochs):\n",
    "  epsilon = CFG_ML.final_epsilon + (max(CFG_ML.num_decay_epochs - epochs, 0) * (\n",
    "            CFG_ML.initial_epsilon - CFG_ML.final_epsilon) / CFG_ML.num_decay_epochs)\n",
    "\n",
    "  board, puyo = env.reset()\n",
    "  done = False\n",
    "  final_score = 0\n",
    "  final_pieces = 0\n",
    "\n",
    "  while not done:\n",
    "    u = random.random()\n",
    "    random_action = u <= epsilon\n",
    "\n",
    "    action = agent(board, puyo)\n",
    "\n",
    "    if random_action:\n",
    "      action_list = utils.create_action_list(board)\n",
    "      if len(action_list):\n",
    "        index = random.randint(0, len(action_list) - 1)\n",
    "        action = action_list[index]\n",
    "\n",
    "    next_board, puyo, reward, done = env.step(action)\n",
    "    agent.update(board, action, reward, next_board, done)\n",
    "    board = next_board\n",
    "    final_score += reward\n",
    "    final_pieces += 2\n",
    "  \n",
    "  if epochs % CFG_ML.sync_interval == 0:\n",
    "    agent.sync_qnet()\n",
    "\n",
    "  print(\"Epoch: {}/{}, Score: {}, pieces {}\".format(\n",
    "    epochs,\n",
    "    CFG_ML.num_epochs,\n",
    "    final_score,\n",
    "    final_pieces))\n",
    "\n",
    "  if epochs > 0 and epochs % CFG_ML.save_interval == 0:\n",
    "    agent.save_model(\"{}/puyopuyo_{}\".format(CFG_ML.saved_path, epochs))\n",
    "\n",
    "agent.save_model(\"{}/puyopuyo\".format(CFG_ML.saved_path))\n"
   ]
  },
  {
   "cell_type": "markdown",
   "metadata": {},
   "source": [
    "## 11.2 解説するまでもなく、読んでそのままですが\n",
    "\n",
    "* epsilon : ランダムにする比率です。0から1までの数値をランダムに出して、epsilonより小さければランダムに選択します。4000でランダム0になります。\n",
    "\n",
    "25分くらいで終了します。"
   ]
  }
 ],
 "metadata": {
  "kernelspec": {
   "display_name": "Python 3",
   "language": "python",
   "name": "python3"
  },
  "language_info": {
   "codemirror_mode": {
    "name": "ipython",
    "version": 3
   },
   "file_extension": ".py",
   "mimetype": "text/x-python",
   "name": "python",
   "nbconvert_exporter": "python",
   "pygments_lexer": "ipython3",
   "version": "3.11.6"
  }
 },
 "nbformat": 4,
 "nbformat_minor": 2
}
