{
 "cells": [
  {
   "cell_type": "markdown",
   "metadata": {},
   "source": [
    "# Step2 blocks"
   ]
  },
  {
   "cell_type": "markdown",
   "metadata": {},
   "source": [
    "# 2 puyoを作ってみる。\n",
    "\n",
    "　今回は、puyoを作ってみます。落下してくるpuyoは、中心ぷよと動くぷよから構成されます。位置情報は、ゲーム画面上では、本来は整数ではないのですが、機械学習のために整数として扱うことにします。"
   ]
  },
  {
   "cell_type": "code",
   "execution_count": 1,
   "metadata": {},
   "outputs": [],
   "source": [
    "import numpy as np\n",
    "import random\n",
    "\n",
    "class Puyopuyo:\n",
    "    def __init__(self):\n",
    "        self.x = 2\n",
    "        self.y = 0\n",
    "        self.dx = [1,  0, -1, 0]\n",
    "        self.dy = [0, -1,  0, 1]\n",
    "        self.centerPuyo = random.randint(1,4)\n",
    "        self.movablePuyo = random.randint(1,4)\n",
    "        self.rotation = 1"
   ]
  },
  {
   "cell_type": "markdown",
   "metadata": {},
   "source": [
    "* movablePuyoは、座標としては、初期状態では、上向きです。また、必ず左から3番目の列を落下し始めることにします。\n",
    "* 回転は、0から270まで、90刻みです。\n",
    "* dxとdyは、movablePuyoのcenterPuyoからの相対座標です。\n",
    "* 公式javascriptでは、rotationは0,90,180,270です。それぞれ0,1,2,3とします。\n",
    "* dx[rotation]のように使います。例えば、rotation=1の時は、dx[1]となります。\n",
    "* self.centerPuyo = random.randint(1,4) 色を4色からランダムに指定します。\n",
    "\n",
    "そこで、初期状態でboard[2,0]にすでにぷよが存在すればゲームオーバーになるかどうかの判定をします。"
   ]
  },
  {
   "cell_type": "code",
   "execution_count": 2,
   "metadata": {},
   "outputs": [],
   "source": [
    "def create_new_puyo(board):\n",
    "    new_puyo = Puyopuyo()\n",
    "    done = False\n",
    "    if board[2, 0] > 0:\n",
    "        done = True\n",
    "    return new_puyo, done    "
   ]
  },
  {
   "cell_type": "markdown",
   "metadata": {},
   "source": [
    "create_new_puyo関数は、新しいぷよ生成と終了判定をします。"
   ]
  },
  {
   "cell_type": "markdown",
   "metadata": {},
   "source": [
    "次に、ぷよをサンプルボードに配置してみます。もしも、movablepuyoが上に位置（rotation=1）で、puyo.y=0固定された場合、movablepuyoは消えます。"
   ]
  },
  {
   "cell_type": "code",
   "execution_count": 3,
   "metadata": {},
   "outputs": [],
   "source": [
    "def set_puyo_to_board(board, puyo):\n",
    "    new_board = np.copy(board)\n",
    "    new_board[puyo.y, puyo.x ] = puyo.centerPuyo\n",
    "    puyo_dy = puyo.y + puyo.dy[puyo.rotation]\n",
    "    puyo_dx = puyo.x + puyo.dx[puyo.rotation]\n",
    "    if puyo_dy >= 0:\n",
    "        new_board[puyo_dy, puyo_dx ] = puyo.movablePuyo\n",
    "    return new_board"
   ]
  },
  {
   "cell_type": "markdown",
   "metadata": {},
   "source": [
    "\n",
    "使ってみます。"
   ]
  },
  {
   "cell_type": "code",
   "execution_count": 4,
   "metadata": {},
   "outputs": [
    {
     "name": "stdout",
     "output_type": "stream",
     "text": [
      "[[0 0 0 0 0 0]\n",
      " [0 0 0 0 0 0]\n",
      " [0 0 0 0 0 0]\n",
      " [0 0 1 3 0 0]\n",
      " [0 0 0 0 0 0]\n",
      " [0 0 0 0 0 0]\n",
      " [0 0 0 0 0 0]\n",
      " [0 0 1 0 0 0]\n",
      " [0 0 2 0 3 0]\n",
      " [0 1 1 0 2 0]\n",
      " [3 2 1 0 3 0]\n",
      " [4 3 1 2 2 0]]\n",
      "[[0 0 0 0 0 0]\n",
      " [0 0 0 0 0 0]\n",
      " [0 0 3 0 0 0]\n",
      " [0 0 1 0 0 0]\n",
      " [0 0 0 0 0 0]\n",
      " [0 0 0 0 0 0]\n",
      " [0 0 0 0 0 0]\n",
      " [0 0 1 0 0 0]\n",
      " [0 0 2 0 3 0]\n",
      " [0 1 1 0 2 0]\n",
      " [3 2 1 0 3 0]\n",
      " [4 3 1 2 2 0]]\n",
      "[[0 0 0 0 0 0]\n",
      " [0 0 0 0 0 0]\n",
      " [0 0 0 0 0 0]\n",
      " [0 3 1 0 0 0]\n",
      " [0 0 0 0 0 0]\n",
      " [0 0 0 0 0 0]\n",
      " [0 0 0 0 0 0]\n",
      " [0 0 1 0 0 0]\n",
      " [0 0 2 0 3 0]\n",
      " [0 1 1 0 2 0]\n",
      " [3 2 1 0 3 0]\n",
      " [4 3 1 2 2 0]]\n",
      "[[0 0 0 0 0 0]\n",
      " [0 0 0 0 0 0]\n",
      " [0 0 0 0 0 0]\n",
      " [0 0 1 0 0 0]\n",
      " [0 0 3 0 0 0]\n",
      " [0 0 0 0 0 0]\n",
      " [0 0 0 0 0 0]\n",
      " [0 0 1 0 0 0]\n",
      " [0 0 2 0 3 0]\n",
      " [0 1 1 0 2 0]\n",
      " [3 2 1 0 3 0]\n",
      " [4 3 1 2 2 0]]\n"
     ]
    }
   ],
   "source": [
    "import numpy as np\n",
    "import random\n",
    "from puyo_utils import *\n",
    "\n",
    "board = utils.create_sample_board()\n",
    "\n",
    "puyo2 = Puyopuyo()\n",
    "puyo2.y = 3\n",
    "\n",
    "for i in range(4):\n",
    "    puyo2.rotation = i\n",
    "    new_board= set_puyo_to_board(board, puyo2)\n",
    "    print(new_board)\n"
   ]
  },
  {
   "cell_type": "markdown",
   "metadata": {},
   "source": [
    "これらの関数も使いたいので、fb_utilsに保存しておきます。"
   ]
  },
  {
   "cell_type": "code",
   "execution_count": 5,
   "metadata": {},
   "outputs": [
    {
     "name": "stdout",
     "output_type": "stream",
     "text": [
      "Overwriting puyo_utils.py\n"
     ]
    }
   ],
   "source": [
    "%%writefile puyo_utils.py\n",
    "import numpy as np\n",
    "import random\n",
    "\n",
    "class Puyopuyo:\n",
    "    def __init__(self):\n",
    "        self.x = 2\n",
    "        self.y = 0\n",
    "        self.dx = [1,  0, -1, 0]\n",
    "        self.dy = [0, -1,  0, 1]\n",
    "        self.centerPuyo = random.randint(1,4)\n",
    "        self.movablePuyo = random.randint(1,4)\n",
    "        self.rotation = 1    \n",
    "\n",
    "\n",
    "class utils:\n",
    "    def create_sample_board(height=12, width=6):\n",
    "        sample_list = np.arange(width)\n",
    "        random.shuffle(sample_list)\n",
    "        board = np.zeros(height * width, dtype = np.int32).reshape(height, width)\n",
    "\n",
    "        for j in range(width):\n",
    "            if sample_list[j]:\n",
    "                for i in range(sample_list[j]):\n",
    "                    board[height - 1 - i, j] = random.randint(1, 4)\n",
    "\n",
    "        return board\n",
    "\n",
    "    def create_new_puyo(board):\n",
    "        new_puyo = Puyopuyo()\n",
    "        done = False\n",
    "        if board[2, 0] > 0:\n",
    "            done = True\n",
    "        return new_puyo, done    \n",
    "\n",
    "    def set_puyo_to_board(board, puyo):\n",
    "        new_board = np.copy(board)\n",
    "        new_board[puyo.y, puyo.x ] = puyo.centerPuyo\n",
    "        puyo_dy = puyo.y + puyo.dy[puyo.rotation]\n",
    "        puyo_dx = puyo.x + puyo.dx[puyo.rotation]\n",
    "        if puyo_dy >= 0:\n",
    "            new_board[puyo_dy, puyo_dx ] = puyo.movablePuyo\n",
    "        return new_board\n"
   ]
  },
  {
   "cell_type": "markdown",
   "metadata": {},
   "source": [
    "* class utils : 関数をまとめて、utilsにしました。名前がぶつからないようにします。"
   ]
  }
 ],
 "metadata": {
  "kernelspec": {
   "display_name": "Python 3",
   "language": "python",
   "name": "python3"
  },
  "language_info": {
   "codemirror_mode": {
    "name": "ipython",
    "version": 3
   },
   "file_extension": ".py",
   "mimetype": "text/x-python",
   "name": "python",
   "nbconvert_exporter": "python",
   "pygments_lexer": "ipython3",
   "version": "3.11.6"
  }
 },
 "nbformat": 4,
 "nbformat_minor": 2
}
